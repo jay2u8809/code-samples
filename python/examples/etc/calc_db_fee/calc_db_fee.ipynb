{
 "cells": [
  {
   "cell_type": "markdown",
   "id": "6eed787e",
   "metadata": {},
   "source": [
    "## Calc DynamoDB Fee"
   ]
  },
  {
   "cell_type": "markdown",
   "id": "4c41f68b",
   "metadata": {},
   "source": [
    "DB Read Min (1Day avg)"
   ]
  },
  {
   "cell_type": "code",
   "execution_count": 1,
   "id": "a622e401",
   "metadata": {},
   "outputs": [
    {
     "ename": "ValueError",
     "evalue": "invalid literal for int() with base 10: ''",
     "output_type": "error",
     "traceback": [
      "\u001B[0;31m---------------------------------------------------------------------------\u001B[0m",
      "\u001B[0;31mValueError\u001B[0m                                Traceback (most recent call last)",
      "\u001B[0;32m/var/folders/d3/whw6m1w5523ftf2bq897fk800000gn/T/ipykernel_28438/2277324125.py\u001B[0m in \u001B[0;36m<module>\u001B[0;34m\u001B[0m\n\u001B[0;32m----> 1\u001B[0;31m \u001B[0mavg_read_min\u001B[0m \u001B[0;34m=\u001B[0m \u001B[0mint\u001B[0m\u001B[0;34m(\u001B[0m\u001B[0minput\u001B[0m\u001B[0;34m(\u001B[0m\u001B[0;34m'DB Read Min (1Day avg)'\u001B[0m\u001B[0;34m)\u001B[0m\u001B[0;34m)\u001B[0m\u001B[0;34m\u001B[0m\u001B[0;34m\u001B[0m\u001B[0m\n\u001B[0m\u001B[1;32m      2\u001B[0m \u001B[0;34m\u001B[0m\u001B[0m\n",
      "\u001B[0;31mValueError\u001B[0m: invalid literal for int() with base 10: ''"
     ]
    }
   ],
   "source": [
    "avg_read_min = int(input('DB Read Min (1Day avg)'))"
   ]
  },
  {
   "cell_type": "markdown",
   "id": "c19ef674",
   "metadata": {},
   "source": [
    "DB Read Max (1Day avg)"
   ]
  },
  {
   "cell_type": "code",
   "execution_count": null,
   "id": "79e067af",
   "metadata": {},
   "outputs": [],
   "source": [
    "avg_read_max = int(input())"
   ]
  },
  {
   "cell_type": "markdown",
   "id": "f1e17f39",
   "metadata": {},
   "source": [
    "DB Write Min (1Day avg)"
   ]
  },
  {
   "cell_type": "code",
   "execution_count": null,
   "id": "db03b187",
   "metadata": {},
   "outputs": [],
   "source": [
    "avg_write_min = int(input())"
   ]
  },
  {
   "cell_type": "markdown",
   "id": "061289a8",
   "metadata": {},
   "source": [
    "DB Write Max (1Day avg)"
   ]
  },
  {
   "cell_type": "code",
   "execution_count": null,
   "id": "feee4f44",
   "metadata": {},
   "outputs": [],
   "source": [
    "avg_write_max = int(input())"
   ]
  },
  {
   "cell_type": "markdown",
   "id": "e79ccbff",
   "metadata": {},
   "source": [
    "DB Read Provisioned"
   ]
  },
  {
   "cell_type": "code",
   "execution_count": null,
   "id": "35b84a2b",
   "metadata": {},
   "outputs": [],
   "source": [
    "read_provisioned = int(input())"
   ]
  },
  {
   "cell_type": "markdown",
   "id": "031dba45",
   "metadata": {},
   "source": [
    "DB Read Provisioned Max"
   ]
  },
  {
   "cell_type": "code",
   "execution_count": null,
   "id": "6c0767a9",
   "metadata": {},
   "outputs": [],
   "source": [
    "read_provisioned_max = int(input())"
   ]
  },
  {
   "cell_type": "markdown",
   "id": "045331ca",
   "metadata": {},
   "source": [
    "DB Read Reserved"
   ]
  },
  {
   "cell_type": "code",
   "execution_count": null,
   "id": "9f01d5e3",
   "metadata": {},
   "outputs": [],
   "source": [
    "read_reserved = int(input())"
   ]
  },
  {
   "cell_type": "markdown",
   "id": "fdd52f1c",
   "metadata": {},
   "source": [
    "DB Write Provisioned"
   ]
  },
  {
   "cell_type": "code",
   "execution_count": null,
   "id": "97b93acc",
   "metadata": {},
   "outputs": [],
   "source": [
    "write_provisioned = int(input())"
   ]
  },
  {
   "cell_type": "markdown",
   "id": "e5abe136",
   "metadata": {},
   "source": [
    "DB Write Provisioned Max"
   ]
  },
  {
   "cell_type": "code",
   "execution_count": null,
   "id": "75657edb",
   "metadata": {},
   "outputs": [],
   "source": [
    "write_provisioned_max = int(input())"
   ]
  },
  {
   "cell_type": "markdown",
   "id": "3a93779a",
   "metadata": {},
   "source": [
    "DB Write Reserved"
   ]
  },
  {
   "cell_type": "code",
   "execution_count": null,
   "id": "6a48cc63",
   "metadata": {},
   "outputs": [],
   "source": [
    "write_reserved = int(input())"
   ]
  },
  {
   "cell_type": "markdown",
   "id": "a1db8b3c",
   "metadata": {},
   "source": [
    "RESULT"
   ]
  },
  {
   "cell_type": "code",
   "execution_count": null,
   "id": "ff72752b",
   "metadata": {},
   "outputs": [],
   "source": [
    "def calc_avg(num1, num2):\n",
    "    return (int(num1) + int(num2)) / 2 / 100\n",
    "\n",
    "read_traffic_avg = calc_avg(avg_read_max, avg_read_min)\n",
    "write_traffic_avg = calc_avg(avg_write_max, avg_write_min)\n",
    "\n",
    "read_db = read_provisioned_max * read_traffic_avg\n",
    "print('READ AVG: ', read_traffic_avg)\n",
    "print('READ USAGE: ', read_db)\n",
    "print('READ RESULT: ', 'Buy' if read_db > read_reserved else 'No Buy')\n",
    "\n",
    "write_db = write_provisioned_max * write_traffic_avg\n",
    "print('WRITE AVG: ', write_traffic_avg)\n",
    "print('WRITE USAGE: ', write_db)\n",
    "print('WRITE RESULT: ', 'Buy' if write_db > write_reserved else 'No Buy')"
   ]
  },
  {
   "cell_type": "code",
   "execution_count": null,
   "id": "d81771f9",
   "metadata": {},
   "outputs": [],
   "source": []
  }
 ],
 "metadata": {
  "kernelspec": {
   "display_name": "Python 3",
   "language": "python",
   "name": "python3"
  },
  "language_info": {
   "codemirror_mode": {
    "name": "ipython",
    "version": 3
   },
   "file_extension": ".py",
   "mimetype": "text/x-python",
   "name": "python",
   "nbconvert_exporter": "python",
   "pygments_lexer": "ipython3",
   "version": "3.8.8"
  }
 },
 "nbformat": 4,
 "nbformat_minor": 5
}