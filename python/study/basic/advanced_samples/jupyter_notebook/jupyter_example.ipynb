{
 "cells": [
  {
   "cell_type": "code",
   "execution_count": 2,
   "id": "e37d0d5e",
   "metadata": {},
   "outputs": [
    {
     "name": "stdout",
     "output_type": "stream",
     "text": [
      "Hello Wolrd, Jupyter Notebook!\n"
     ]
    }
   ],
   "source": [
    "print(\"Hello Wolrd, Jupyter Notebook!\")"
   ]
  },
  {
   "cell_type": "markdown",
   "id": "7c62b001",
   "metadata": {},
   "source": [
    "**Jupyter NoteBook**"
   ]
  },
  {
   "cell_type": "code",
   "execution_count": null,
   "id": "1f90f604",
   "metadata": {},
   "outputs": [],
   "source": []
  }
 ],
 "metadata": {
  "kernelspec": {
   "display_name": "Python 3 (ipykernel)",
   "language": "python",
   "name": "python3"
  },
  "language_info": {
   "codemirror_mode": {
    "name": "ipython",
    "version": 3
   },
   "file_extension": ".py",
   "mimetype": "text/x-python",
   "name": "python",
   "nbconvert_exporter": "python",
   "pygments_lexer": "ipython3",
   "version": "3.9.1"
  }
 },
 "nbformat": 4,
 "nbformat_minor": 5
}
